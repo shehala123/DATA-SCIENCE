{
 "cells": [
  {
   "cell_type": "code",
   "execution_count": 2,
   "metadata": {},
   "outputs": [
    {
     "name": "stdout",
     "output_type": "stream",
     "text": [
      "[['sunny' 'hot']\n",
      " ['sunny' 'hot']\n",
      " ['overcast' 'hot']\n",
      " ['rainy' 'mild']\n",
      " ['rainy' 'cool']\n",
      " ['rainy' 'cool']\n",
      " ['overcast' 'cool']\n",
      " ['sunny' 'mild']\n",
      " ['sunny' 'cool']\n",
      " ['rainy' 'mild']\n",
      " ['sunny' 'mild']\n",
      " ['overcast' 'mild']\n",
      " ['overcast' 'hot']\n",
      " ['rainy' 'mild']]\n",
      "['no' 'no' 'yes' 'yes' 'yes' 'no' 'yes' 'no' 'yes' 'yes' 'yes' 'yes' 'yes'\n",
      " 'no']\n",
      "[2 2 0 1 1 1 0 2 2 1 2 0 0 1]\n",
      "[1 1 1 2 0 0 0 2 0 2 2 2 1 2]\n",
      "[0 0 1 1 1 0 1 0 1 1 1 1 1 0]\n",
      "[[2 1]\n",
      " [2 1]\n",
      " [0 1]\n",
      " [1 2]\n",
      " [1 0]\n",
      " [1 0]\n",
      " [0 0]\n",
      " [2 2]\n",
      " [2 0]\n",
      " [1 2]\n",
      " [2 2]\n",
      " [0 2]\n",
      " [0 1]\n",
      " [1 2]]\n",
      "[0 1 0]\n",
      "[1 1 0]\n",
      "[[1 0]\n",
      " [1 1]]\n",
      "0.666666666667\n"
     ]
    }
   ],
   "source": [
    "import numpy as np\n",
    "import matplotlib.pyplot as plt\n",
    "import pandas as pd\n",
    "import sklearn\n",
    "from sklearn.preprocessing import LabelEncoder,StandardScaler\n",
    "from sklearn.model_selection import train_test_split\n",
    "from sklearn.naive_bayes import GaussianNB\n",
    "from sklearn.metrics import confusion_matrix,accuracy_score\n",
    "dataset = pd.read_csv('Book1.csv')\n",
    "X = dataset.iloc[:, [1, 2]].values\n",
    "y = dataset.iloc[:, -1].values\n",
    "print(X)\n",
    "print(y)\n",
    "le = LabelEncoder()\n",
    "k=le.fit_transform(X[:,0])\n",
    "print(k)\n",
    "f=le.fit_transform(X[:,1])\n",
    "print(f)\n",
    "label=le.fit_transform(y)\n",
    "print(label)\n",
    "q=(np.vstack((k, f)).T)\n",
    "print(q)\n",
    "X_train, X_test, y_train, y_test = train_test_split(q, label, test_size = 0.20, random_state =42)\n",
    "classifier = GaussianNB()\n",
    "classifier.fit(X_train, y_train)\n",
    "y_pred  = classifier.predict(X_test)\n",
    "print(y_pred)\n",
    "print(y_test)\n",
    "cm = confusion_matrix(y_test, y_pred)\n",
    "print(cm)\n",
    "ac = accuracy_score(y_test,y_pred)\n",
    "print(ac)\n"
   ]
  },
  {
   "cell_type": "code",
   "execution_count": 3,
   "metadata": {},
   "outputs": [
    {
     "ename": "SyntaxError",
     "evalue": "invalid syntax (<ipython-input-3-9f1e510a7232>, line 1)",
     "output_type": "error",
     "traceback": [
      "\u001b[0;36m  File \u001b[0;32m\"<ipython-input-3-9f1e510a7232>\"\u001b[0;36m, line \u001b[0;32m1\u001b[0m\n\u001b[0;31m    [10:36 AM, 12/21/2021] luthfan kmct: from sklearn import linear_model\u001b[0m\n\u001b[0m       ^\u001b[0m\n\u001b[0;31mSyntaxError\u001b[0m\u001b[0;31m:\u001b[0m invalid syntax\n"
     ]
    }
   ],
   "source": [
    " luthfan kmct: from sklearn import linear_model\n",
    "from sklearn.model_selection import train_test_split\n",
    "from sklearn.datasets import load_iris\n",
    "from sklearn.metrics import mean_squared_error,r2_score\n",
    "\n",
    "irisData = load_iris()\n",
    "\n",
    "x = irisData.data\n",
    "y = irisData.target\n",
    "\n",
    "x_train , x_test ,y_train ,y_test = train_test_split(x,y,test_size=7,random_state=42)\n",
    "\n",
    "model = linear_model.LinearRegression()\n",
    "model.fit(x_train,y_train)\n",
    "y_pred = model.predict(x_test)\n",
    "y_pred_train = model.predict(x_train)\n",
    "print(\"mean square error\",mean_squared_error(y_test,y_pred))\n",
    "print(\"r2score\",r2_score(y_test,y_pred))"
   ]
  },
  {
   "cell_type": "code",
   "execution_count": null,
   "metadata": {
    "collapsed": true
   },
   "outputs": [],
   "source": []
  }
 ],
 "metadata": {
  "kernelspec": {
   "display_name": "Python 3",
   "language": "python",
   "name": "python3"
  },
  "language_info": {
   "codemirror_mode": {
    "name": "ipython",
    "version": 3
   },
   "file_extension": ".py",
   "mimetype": "text/x-python",
   "name": "python",
   "nbconvert_exporter": "python",
   "pygments_lexer": "ipython3",
   "version": "3.6.3"
  }
 },
 "nbformat": 4,
 "nbformat_minor": 2
}
