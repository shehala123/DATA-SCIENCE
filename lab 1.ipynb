{
 "cells": [
  {
   "cell_type": "code",
   "execution_count": 2,
   "metadata": {},
   "outputs": [
    {
     "name": "stdout",
     "output_type": "stream",
     "text": [
      "[1 2 3 4]\n"
     ]
    }
   ],
   "source": [
    "import numpy as np\n",
    "a=np.array([1,2,3,4])\n",
    "\n",
    "print(a)"
   ]
  },
  {
   "cell_type": "code",
   "execution_count": 6,
   "metadata": {},
   "outputs": [
    {
     "name": "stdout",
     "output_type": "stream",
     "text": [
      "[[1 2 3]\n",
      " [2 3 4]\n",
      " [3 4 5]]\n",
      "dimension: (3, 3)\n"
     ]
    }
   ],
   "source": [
    "b=np.array([[1,2,3],[2,3,4],[3,4,5]])\n",
    "print(b)\n",
    "print(\"dimension:\",np.shape(b))"
   ]
  },
  {
   "cell_type": "code",
   "execution_count": 7,
   "metadata": {},
   "outputs": [
    {
     "name": "stdout",
     "output_type": "stream",
     "text": [
      "[[ 0.  0.]\n",
      " [ 0.  0.]\n",
      " [ 0.  0.]]\n"
     ]
    }
   ],
   "source": [
    "print(np.zeros((3,2)))"
   ]
  },
  {
   "cell_type": "code",
   "execution_count": 12,
   "metadata": {},
   "outputs": [
    {
     "name": "stdout",
     "output_type": "stream",
     "text": [
      "[[0 1]\n",
      " [2 3]\n",
      " [4 5]\n",
      " [6 7]\n",
      " [8 9]]\n"
     ]
    }
   ],
   "source": [
    "c=np.arange(10).reshape(5,2)\n",
    "print(c)"
   ]
  },
  {
   "cell_type": "code",
   "execution_count": 13,
   "metadata": {},
   "outputs": [
    {
     "name": "stdout",
     "output_type": "stream",
     "text": [
      "[[  8.61439694e-05   2.92230939e-01   4.56807506e-01]\n",
      " [  4.46278128e-01   8.35998718e-01   9.96226235e-01]\n",
      " [  9.54073603e-02   4.67757851e-01   9.53882240e-01]]\n"
     ]
    }
   ],
   "source": [
    "d=np.random.random([3,3])\n",
    "print(d)"
   ]
  },
  {
   "cell_type": "code",
   "execution_count": 16,
   "metadata": {},
   "outputs": [
    {
     "name": "stdout",
     "output_type": "stream",
     "text": [
      "[ 1.   1.5  2.   2.5  3.   3.5  4. ]\n"
     ]
    }
   ],
   "source": [
    "e=np.linspace(1,4,7)\n",
    "print(e)"
   ]
  },
  {
   "cell_type": "code",
   "execution_count": 17,
   "metadata": {},
   "outputs": [
    {
     "name": "stdout",
     "output_type": "stream",
     "text": [
      "[ 2.   2.1  2.2  2.3  2.4  2.5  2.6  2.7  2.8  2.9  3.   3.1  3.2  3.3  3.4\n",
      "  3.5  3.6  3.7  3.8  3.9  4.   4.1  4.2  4.3  4.4  4.5  4.6  4.7  4.8  4.9\n",
      "  5.   5.1  5.2  5.3  5.4  5.5  5.6  5.7  5.8  5.9]\n"
     ]
    }
   ],
   "source": [
    "f=np.arange(2,6,0.1)\n",
    "print(f)"
   ]
  },
  {
   "cell_type": "code",
   "execution_count": 19,
   "metadata": {},
   "outputs": [
    {
     "name": "stdout",
     "output_type": "stream",
     "text": [
      "[[ 3.  9.  3.  5.  8.  0.  5.]\n",
      " [ 0.  5.  2.  0.  7.  5.  2.]]\n"
     ]
    }
   ],
   "source": [
    "g=np.floor((10*np.random.random((2,7))))\n",
    "print(g)"
   ]
  },
  {
   "cell_type": "code",
   "execution_count": 23,
   "metadata": {},
   "outputs": [
    {
     "name": "stdout",
     "output_type": "stream",
     "text": [
      "[[10 13]\n",
      " [28 40]]\n"
     ]
    }
   ],
   "source": [
    "#multiplication\n",
    "\n",
    "import numpy as np\n",
    "a=np.arange(6).reshape((2,3))\n",
    "b=np.arange(6).reshape((3,2))\n",
    "c=np.dot(a,b)\n",
    "print(c)"
   ]
  },
  {
   "cell_type": "code",
   "execution_count": 24,
   "metadata": {},
   "outputs": [
    {
     "name": "stdout",
     "output_type": "stream",
     "text": [
      "[[10 28]\n",
      " [13 40]]\n"
     ]
    }
   ],
   "source": [
    "print(np.transpose(c))"
   ]
  },
  {
   "cell_type": "code",
   "execution_count": 26,
   "metadata": {},
   "outputs": [
    {
     "name": "stdout",
     "output_type": "stream",
     "text": [
      "x =  [[1 2 3]\n",
      " [4 5 6]\n",
      " [5 6 7]]\n",
      "u =  [[-0.25775879  0.94609665  0.19611614]\n",
      " [-0.62014124 -0.00634259 -0.78446454]\n",
      " [-0.74093539 -0.32382234  0.58834841]]\n",
      "s =  [  1.41499421e+01   8.82688844e-01   2.95742808e-16]\n",
      "t =  [[-0.4553376  -0.5697434  -0.6841492 ]\n",
      " [-0.79120225 -0.09341194  0.60437836]\n",
      " [ 0.40824829 -0.81649658  0.40824829]]\n"
     ]
    }
   ],
   "source": [
    "#single value decomposition\n",
    "\n",
    "\n",
    "import numpy as np\n",
    "from scipy.linalg import svd\n",
    "x=np.array([[1,2,3],[4,5,6],[5,6,7]])\n",
    "u,s,t=svd(x)\n",
    "print(\"x = \",x)\n",
    "print(\"u = \",u)\n",
    "print(\"s = \",s)\n",
    "print(\"t = \",t)"
   ]
  },
  {
   "cell_type": "code",
   "execution_count": null,
   "metadata": {
    "collapsed": true
   },
   "outputs": [],
   "source": []
  }
 ],
 "metadata": {
  "kernelspec": {
   "display_name": "Python 3",
   "language": "python",
   "name": "python3"
  },
  "language_info": {
   "codemirror_mode": {
    "name": "ipython",
    "version": 3
   },
   "file_extension": ".py",
   "mimetype": "text/x-python",
   "name": "python",
   "nbconvert_exporter": "python",
   "pygments_lexer": "ipython3",
   "version": "3.6.3"
  }
 },
 "nbformat": 4,
 "nbformat_minor": 2
}
