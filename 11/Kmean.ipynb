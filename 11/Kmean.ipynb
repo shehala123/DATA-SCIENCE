{
 "cells": [
  {
   "cell_type": "code",
   "execution_count": 26,
   "metadata": {},
   "outputs": [
    {
     "name": "stdout",
     "output_type": "stream",
     "text": [
      "[[-1.36438208 -1.08347268]\n",
      " [-0.62017367 -1.08347268]\n",
      " [-0.62017367  0.36115756]\n",
      " [ 0.12403473 -0.36115756]\n",
      " [ 0.86824314  0.36115756]\n",
      " [ 1.61245155  1.8057878 ]]\n",
      "[0 0 0 0 1 1]\n",
      "[-1.36438208 -0.62017367 -0.62017367  0.12403473  0.86824314  1.61245155]\n"
     ]
    },
    {
     "name": "stderr",
     "output_type": "stream",
     "text": [
      "/home/ksb/anaconda3/lib/python3.6/site-packages/sklearn/utils/validation.py:475: DataConversionWarning: Data with input dtype int64 was converted to float64 by StandardScaler.\n",
      "  warnings.warn(msg, DataConversionWarning)\n"
     ]
    },
    {
     "data": {
      "image/png": "[encoded data removed]",
      "text/plain": [
       "<matplotlib.figure.Figure at 0x7fa046b2d978>"
      ]
     },
     "metadata": {},
     "output_type": "display_data"
    }
   ],
   "source": [
    "#Kmean\n",
    "from sklearn.preprocessing import StandardScaler\n",
    "from sklearn.cluster import KMeans\n",
    "import pandas as pd\n",
    "from matplotlib import pyplot as plt\n",
    "import numpy as np\n",
    "%matplotlib inline\n",
    "# dataset=pd.read_csv('d.csv')\n",
    "# x=dataset.iloc[:,:].valuesi\n",
    "# ss=StandardScaler()\n",
    "# X=ss.fit_transform(x)\n",
    "# print(X)\n",
    "X, target = make_blobs(n_samples=1000, n_features=2, \n",
    "                                centers=[(20,20),(4,4)], random_state=1)\n",
    "kmeans=KMeans(init='k-means++',n_clusters=2, n_init=10)\n",
    "kmeans.fit(X)\n",
    "p=kmeans.predict(X)\n",
    "print(\"\\n------------\\npredicted \")\n",
    "print(p)\n",
    "colors=list(map(lambda x:\"#3b4cc0\" if x==1 else \"#b40426\",p))\n",
    "plt.scatter(X[:,0],X[:,1],c=colors,marker=\"*\",picker=True)\n",
    "print(X[:,0])\n",
    "plt.show()"
   ]
  },
  {
   "cell_type": "code",
   "execution_count": null,
   "metadata": {
    "collapsed": true
   },
   "outputs": [],
   "source": []
  },
  {
   "cell_type": "code",
   "execution_count": null,
   "metadata": {
    "collapsed": true
   },
   "outputs": [],
   "source": []
  }
 ],
 "metadata": {
  "kernelspec": {
   "display_name": "Python 3",
   "language": "python",
   "name": "python3"
  },
  "language_info": {
   "codemirror_mode": {
    "name": "ipython",
    "version": 3
   },
   "file_extension": ".py",
   "mimetype": "text/x-python",
   "name": "python",
   "nbconvert_exporter": "python",
   "pygments_lexer": "ipython3",
   "version": "3.6.3"
  }
 },
 "nbformat": 4,
 "nbformat_minor": 2
}
